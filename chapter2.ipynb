{
 "cells": [
  {
   "cell_type": "code",
   "execution_count": null,
   "metadata": {
    "collapsed": true
   },
   "outputs": [],
   "source": [
    "class LinkedList:\n",
    "    def __init__(self,value):\n",
    "        self.left=left\n",
    "        self.right=right\n",
    "        "
   ]
  },
  {
   "cell_type": "code",
   "execution_count": 31,
   "metadata": {
    "collapsed": false
   },
   "outputs": [
    {
     "name": "stdout",
     "output_type": "stream",
     "text": [
      "89\n"
     ]
    }
   ],
   "source": [
    "#2.2\n",
    "\n",
    "class LinkedList:\n",
    "    def __init__(self,value):\n",
    "        self.value=value\n",
    "        self.nextone=None\n",
    "    def set_next(self,nextone):\n",
    "        self.nextone=nextone\n",
    "    def get_values(self):\n",
    "        if self.nextone is None:\n",
    "            return str(self.value)\n",
    "        return str(self.value)+\" \"+self.nextone.get_values()\n",
    "        \n",
    "    \n",
    "\n",
    "def find_kth_from_tail(linkedlist,k):\n",
    "    p1=linkedlist\n",
    "    for _ in range(k-1):\n",
    "        p1=p1.nextone\n",
    "        if p1 is None:\n",
    "            print \"here\"\n",
    "            return None\n",
    "    p2=linkedlist\n",
    "    while not p1 is None:\n",
    "        p1=p1.nextone\n",
    "        p2=p2.nextone\n",
    "    \n",
    "    return p2\n",
    "\n",
    "#making test data\n",
    "linkedlist=LinkedList(0)\n",
    "p=linkedlist\n",
    "for i in range(1,98):\n",
    "    p.set_next(LinkedList(i))\n",
    "    p=p.nextone\n",
    "\n",
    "print find_kth_from_tail(linkedlist,10).value\n"
   ]
  },
  {
   "cell_type": "code",
   "execution_count": 22,
   "metadata": {
    "collapsed": false
   },
   "outputs": [
    {
     "name": "stdout",
     "output_type": "stream",
     "text": [
      "0\n",
      "43\n",
      "36\n",
      "45\n",
      "1\n",
      "26\n",
      "18\n",
      "10\n",
      "57\n",
      "96\n"
     ]
    }
   ],
   "source": [
    "#2.4\n",
    "import random\n",
    "\n",
    "def move_small_value(linkedlist,th):\n",
    "    p=linkedlist\n",
    "    #adding dummy here\n",
    "    new_list=LinkedList(0)\n",
    "    new_p=new_list\n",
    "    \n",
    "    #adding dummy here\n",
    "    dummy_head=LinkedList(th+1)\n",
    "    prev_p=dummy_head\n",
    "    prev_p.set_next(p)\n",
    "    \n",
    "    counter=0\n",
    "    while not p is None:\n",
    "        if p.value<th:\n",
    "            new_p.set_next(p)\n",
    "            p=p.nextone\n",
    "            prev_p.set_next(p)\n",
    "            new_p=new_p.nextone\n",
    "            new_p.set_next(None)\n",
    "        else: \n",
    "            prev_p=p\n",
    "            p=p.nextone\n",
    "        \n",
    "        counter+=1\n",
    "        if counter>1000:\n",
    "            return\n",
    "    new_p.set_next(dummy_head.nextone)\n",
    "    \n",
    "    return new_list.nextone\n",
    "    \n",
    "\n",
    "linkedlist=LinkedList(0)\n",
    "p=linkedlist\n",
    "for i in range(1,10):\n",
    "    p.set_next(LinkedList(random.randint(1,100)))\n",
    "    p=p.nextone\n",
    "\n",
    "new=move_small_value(linkedlist,50)\n",
    "counter=0\n",
    "while not new is None:\n",
    "    print new.value\n",
    "    new=new.nextone\n",
    "    counter+=1\n",
    "    if counter>1000:\n",
    "        break"
   ]
  },
  {
   "cell_type": "code",
   "execution_count": 41,
   "metadata": {
    "collapsed": false
   },
   "outputs": [
    {
     "name": "stdout",
     "output_type": "stream",
     "text": [
      "6 4 9\n",
      "3 7 3\n",
      "9 1 3 1\n"
     ]
    }
   ],
   "source": [
    "#2.5\n",
    "def sum_list(node1,node2):\n",
    "    sum_node_start=LinkedList(0)\n",
    "    sum_node=sum_node_start\n",
    "    carry=0\n",
    "    \n",
    "    while not node1 is None and not node2 is None:\n",
    "        if node1 is None:\n",
    "            node1_value=0\n",
    "        else:\n",
    "            node1_value=node1.value\n",
    "        \n",
    "        if node2 is None:\n",
    "            node2_value=0\n",
    "        else:\n",
    "            node2_value=node2.value\n",
    "                \n",
    "        value_sum=node1_value+node2_value+carry\n",
    "        if value_sum>=10:\n",
    "            carry=1\n",
    "            value_sum-=10\n",
    "        else:\n",
    "            carry=0\n",
    "        sum_node.set_next(LinkedList(value_sum))\n",
    "\n",
    "        #increment pointers\n",
    "        sum_node=sum_node.nextone\n",
    "        if not node1 is None:\n",
    "            node1=node1.nextone\n",
    "        if not node2 is None:\n",
    "            node2=node2.nextone\n",
    "    \n",
    "    if carry>0:\n",
    "        sum_node.set_next(LinkedList(1))\n",
    "    \n",
    "    return sum_node_start.nextone\n",
    "\n",
    "#making test data\n",
    "node1=None\n",
    "node2=None\n",
    "for i in range(3):\n",
    "    new_node1=LinkedList(random.randint(0,9))\n",
    "    new_node2=LinkedList(random.randint(0,9))\n",
    "    new_node1.set_next(node1)\n",
    "    node1=new_node1\n",
    "    new_node2.set_next(node2)\n",
    "    node2=new_node2\n",
    "print node1.get_values()\n",
    "print node2.get_values()\n",
    "\n",
    "print sum_list(node1,node2).get_values()\n"
   ]
  },
  {
   "cell_type": "code",
   "execution_count": 39,
   "metadata": {
    "collapsed": false
   },
   "outputs": [
    {
     "name": "stdout",
     "output_type": "stream",
     "text": [
      "[0, 1, 2]\n"
     ]
    }
   ],
   "source": [
    "print range(3)"
   ]
  },
  {
   "cell_type": "code",
   "execution_count": null,
   "metadata": {
    "collapsed": true
   },
   "outputs": [],
   "source": [
    "#2.7\n",
    "\n",
    "class Node(LinkedList):\n",
    "    def __init__(self,value):\n",
    "        super(Node,self).__init__(value)\n",
    "    \n",
    "    def check_simetry(self,node):\n",
    "        self.nextone.check_simetery\n",
    "        if \n",
    "\n",
    "    \n",
    "    "
   ]
  }
 ],
 "metadata": {
  "kernelspec": {
   "display_name": "Python 2",
   "language": "python",
   "name": "python2"
  },
  "language_info": {
   "codemirror_mode": {
    "name": "ipython",
    "version": 2
   },
   "file_extension": ".py",
   "mimetype": "text/x-python",
   "name": "python",
   "nbconvert_exporter": "python",
   "pygments_lexer": "ipython2",
   "version": "2.7.10"
  }
 },
 "nbformat": 4,
 "nbformat_minor": 1
}
