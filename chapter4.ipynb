{
 "cells": [
  {
   "cell_type": "code",
   "execution_count": 1,
   "metadata": {
    "collapsed": false
   },
   "outputs": [],
   "source": [
    "#4.1\n",
    "import math\n",
    "class Node:\n",
    "    def __init__(self,value):\n",
    "        self.value=value\n",
    "        self.left=None\n",
    "        self.right=None\n",
    "    \n",
    "    def get_longest_node_num(self):\n",
    "        right_length=0\n",
    "        if self.right is not None:\n",
    "            right_length=self.right.get_longest_node_num()+1\n",
    "        \n",
    "        left_length=0\n",
    "        if self.left is not None:\n",
    "            left_length=self.left.get_longest_node_num()+1\n",
    "        \n",
    "        return max(right_length,left_length)\n",
    "    \n",
    "    def check_balance(self):\n",
    "        right_length=-1\n",
    "        if self.right is not None:\n",
    "            right_length=self.right.get_longest_node_num()\n",
    "        \n",
    "        left_length=-1\n",
    "        if self.left is not None:\n",
    "            left_length=self.left.get_longest_node_num()\n",
    "        \n",
    "        if abs(right_length-left_length)>1:\n",
    "            return False\n",
    "        \n",
    "        if self.right is not None and not self.right.check_balance():\n",
    "            return False\n",
    "        \n",
    "        if self.left is not None and not self.left.check_balance():\n",
    "            return False\n",
    "        \n",
    "        return True\n",
    "    \n",
    "    def print_nodes(self):\n",
    "        ret=\"(\"\n",
    "        if self.left is not None:\n",
    "            ret+=self.left.print_nodes()\n",
    "        ret+=str(self.value)\n",
    "        if self.right is not None:\n",
    "            ret+=self.right.print_nodes()\n",
    "        ret+=\")\"\n",
    "        return ret\n",
    "    \n",
    "    #4.5\n",
    "    def check_bfs(self,last_value):\n",
    "        if self.left is not None:\n",
    "            left_result,last_value=self.left.check_bfs(last_value)\n",
    "            if not left_result:\n",
    "                return False,-1\n",
    "            \n",
    "        if last_value>self.value:\n",
    "            return False,-1\n",
    "        last_value=self.value\n",
    "        \n",
    "        if self.right is not None:\n",
    "            right_result,last_value=self.right.check_bfs(last_value)\n",
    "            if not right_result:\n",
    "                return False,-1\n",
    "        \n",
    "        return True,last_value\n",
    "    \n",
    "    #4.6\n",
    "    def find_common_parent(self,children):\n",
    "        original_child_num=len(children)\n",
    "        if self.value in children:\n",
    "            children.remove(self.value)\n",
    "        \n",
    "        if self.left is not None:\n",
    "            left_result=self.left.find_common_parent(children)\n",
    "            if left_result is not None:\n",
    "                return left_result\n",
    "\n",
    "        if self.right is not None:\n",
    "            right_result=self.right.find_common_parent(children)\n",
    "            if right_result is not None:\n",
    "                return right_result\n",
    "        \n",
    "        #when, number of child change from 2 to 0, this node is the first common parent\n",
    "        if len(children)==0 and original_child_num==2:\n",
    "            return self\n",
    "        else:\n",
    "            return None\n",
    "        \n"
   ]
  },
  {
   "cell_type": "code",
   "execution_count": 3,
   "metadata": {
    "collapsed": false
   },
   "outputs": [
    {
     "name": "stdout",
     "output_type": "stream",
     "text": [
      "True\n",
      "(((0)1(2(3)))4((5)6(7(8))))\n",
      "True\n",
      "(0)\n",
      "True\n",
      "(((0)1(2))3((4)5(6)))\n"
     ]
    },
    {
     "data": {
      "text/plain": [
       "<__main__.Node instance at 0x7f0c29758950>"
      ]
     },
     "execution_count": 3,
     "metadata": {},
     "output_type": "execute_result"
    }
   ],
   "source": [
    "#4.4\n",
    "def make_tree(arr,s,e,node,dir_):\n",
    "    assert s<=e,str(s)+\" \"+str(e)\n",
    "    if s==e:\n",
    "        add_tree(node,dir_,Node(arr[s]))\n",
    "    elif e-s==1:\n",
    "        new_node=Node(arr[s])\n",
    "        add_tree(node,dir_,new_node)\n",
    "        make_tree(arr,e,e,new_node,\"right\")\n",
    "    else:\n",
    "        m=(s+e)/2\n",
    "        new_node=Node(arr[m])\n",
    "        add_tree(node,dir_,new_node)\n",
    "        make_tree(arr,s,m-1,new_node,\"left\")\n",
    "        make_tree(arr,m+1,e,new_node,\"right\")\n",
    "        \n",
    "def add_tree(node,dir_,new_node):\n",
    "    if dir_==\"right\":\n",
    "        node.right=new_node\n",
    "    else:\n",
    "        node.left=new_node\n",
    "    return new_node\n",
    "def test_make_tree(x):\n",
    "    arr=[i for i in range(x)]\n",
    "    dummy=Node(0)\n",
    "    make_tree(arr,0,x-1,dummy,\"right\")\n",
    "    node=dummy.right\n",
    "    print node.check_balance()\n",
    "    print node.print_nodes()\n",
    "    return node\n",
    "\n",
    "test_make_tree(9)\n",
    "test_make_tree(1)\n",
    "test_make_tree(7)"
   ]
  },
  {
   "cell_type": "code",
   "execution_count": 50,
   "metadata": {
    "collapsed": false
   },
   "outputs": [
    {
     "name": "stdout",
     "output_type": "stream",
     "text": [
      "(True, 9)\n",
      "(False, -1)\n"
     ]
    }
   ],
   "source": [
    "#4.5\n",
    "#test\n",
    "x=10\n",
    "arr=[i for i in range(x)]\n",
    "make_tree(arr,0,x-1,dummy,\"right\")\n",
    "node=dummy.right\n",
    "print node.check_bfs(-1)\n",
    "\n",
    "x=12\n",
    "arr=[i for i in range(x)]\n",
    "arr[3],arr[10]=arr[10],arr[3]\n",
    "make_tree(arr,0,x-1,dummy,\"right\")\n",
    "node=dummy.right\n",
    "print node.check_bfs(-1)"
   ]
  },
  {
   "cell_type": "code",
   "execution_count": 11,
   "metadata": {
    "collapsed": false
   },
   "outputs": [
    {
     "name": "stdout",
     "output_type": "stream",
     "text": [
      "(((0)1(2(3)))4((5(6))7(8(9))))\n",
      "7\n"
     ]
    }
   ],
   "source": [
    "#4.7 test\n",
    "arr=[i for i in range(10)]\n",
    "dummy=Node(0)\n",
    "make_tree(arr,0,10-1,dummy,\"right\")\n",
    "node=dummy.right\n",
    "print node.print_nodes()\n",
    "print node.find_common_parent([7,8]).value"
   ]
  },
  {
   "cell_type": "code",
   "execution_count": 10,
   "metadata": {
    "collapsed": false
   },
   "outputs": [
    {
     "name": "stdout",
     "output_type": "stream",
     "text": [
      "True\n",
      "(((0)1(2(3)))4((5(6))7(8(9))))\n",
      "(((0)1(2(3)))4((5(6))7(8(9))))\n",
      "7 to 7\n"
     ]
    }
   ],
   "source": [
    "#4.9\n",
    "def find_sum_path(node,target_sum,candidates, candidate_sums,result):\n",
    "    assert len(candidates)==len(candidate_sums)\n",
    "    if node is None:\n",
    "        return\n",
    "    \n",
    "    #process children\n",
    "    right_candidates=[]\n",
    "    right_candidate_sums=[]\n",
    "    left_candidates=[]\n",
    "    left_candidate_sums=[]\n",
    "    \n",
    "    find_sum_path(node.left,target_sum,left_candidates,left_candidate_sums,result)\n",
    "    find_sum_path(node.right,target_sum,left_candidates,left_candidate_sums,result)\n",
    "    \n",
    "    candidates.extend(left_candidates)\n",
    "    candidate_sums.extend(left_candidate_sums)\n",
    "    candidates.extend(right_candidates)\n",
    "    candidate_sums.extend(right_candidate_sums)\n",
    "    \n",
    "    to_be_removed=[]\n",
    "    for i in range(len(candidate_sums)):\n",
    "        candidate_sums[i]+=node.value\n",
    "        if candidate_sums[i]==target_sum:\n",
    "            results.append([candidates[i],node])\n",
    "            to_be_removed.append(i)\n",
    "        elif candidate_sums[i]>target_sum:\n",
    "            to_be_removed.append(i)\n",
    "            \n",
    "    for removed_index in reversed(to_be_removed):\n",
    "        candidates.pop(removed_index)\n",
    "        candidate_sums.pop(removed_index)\n",
    "    \n",
    "    if node.value==target_sum:\n",
    "        result.append([node,node])\n",
    "    else:\n",
    "        #process mysefl\n",
    "        candidates.append(node)\n",
    "        candidate_sums.append(node.value)\n",
    "\n",
    "#test\n",
    "node=test_make_tree(10)\n",
    "print node.print_nodes()\n",
    "results=[]\n",
    "find_sum_path(node,7,[],[],results)\n",
    "for result in results:\n",
    "    print str(result[0].value)+\" to \"+str(result[1].value)\n",
    "    \n",
    "    \n"
   ]
  },
  {
   "cell_type": "code",
   "execution_count": 81,
   "metadata": {
    "collapsed": false
   },
   "outputs": [
    {
     "name": "stdout",
     "output_type": "stream",
     "text": [
      "3\n",
      "2\n",
      "3\n"
     ]
    }
   ],
   "source": [
    "print max(1,2,3)\n",
    "print abs(3-5)\n",
    "\n",
    "x=[1,2,3]\n",
    "print x.pop(-1)"
   ]
  }
 ],
 "metadata": {
  "kernelspec": {
   "display_name": "Python 2",
   "language": "python",
   "name": "python2"
  },
  "language_info": {
   "codemirror_mode": {
    "name": "ipython",
    "version": 2
   },
   "file_extension": ".py",
   "mimetype": "text/x-python",
   "name": "python",
   "nbconvert_exporter": "python",
   "pygments_lexer": "ipython2",
   "version": "2.7.10"
  }
 },
 "nbformat": 4,
 "nbformat_minor": 1
}
