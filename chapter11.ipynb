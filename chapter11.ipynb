{
 "cells": [
  {
   "cell_type": "code",
   "execution_count": null,
   "metadata": {
    "collapsed": false
   },
   "outputs": [],
   "source": [
    "#11.1\n",
    "def merge(a,last_a,b,last_b):\n",
    "    pa=last_a\n",
    "    pb=last_b\n",
    "    p=last_a+last_b+1\n",
    "    while pa >= 0 or pb >= 0:\n",
    "        if pa<0:\n",
    "            a[p]=b[pb]\n",
    "            pb-=1\n",
    "        elif pb<0:\n",
    "            #no need to copy \n",
    "            break\n",
    "        elif a[pa] > b[pb]:\n",
    "            a[p]=a[pa]\n",
    "            pa-=1\n",
    "        else:\n",
    "            a[p]=b[pb]\n",
    "            pb-=1\n",
    "        p-=1\n",
    "\n",
    "a=[1,3,5,0,0,0]\n",
    "b=[2,4,6]\n",
    "merge(a,2,b,2)\n",
    "print a"
   ]
  },
  {
   "cell_type": "code",
   "execution_count": null,
   "metadata": {
    "collapsed": true
   },
   "outputs": [],
   "source": []
  }
 ],
 "metadata": {
  "kernelspec": {
   "display_name": "Python 2",
   "language": "python",
   "name": "python2"
  },
  "language_info": {
   "codemirror_mode": {
    "name": "ipython",
    "version": 2
   },
   "file_extension": ".py",
   "mimetype": "text/x-python",
   "name": "python",
   "nbconvert_exporter": "python",
   "pygments_lexer": "ipython2",
   "version": "2.7.11"
  }
 },
 "nbformat": 4,
 "nbformat_minor": 0
}
