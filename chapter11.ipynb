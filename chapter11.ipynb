{
 "cells": [
  {
   "cell_type": "code",
   "execution_count": null,
   "metadata": {
    "collapsed": false
   },
   "outputs": [],
   "source": [
    "#11.1\n",
    "def merge(a,last_a,b,last_b):\n",
    "    pa=last_a\n",
    "    pb=last_b\n",
    "    p=last_a+last_b+1\n",
    "    while pa >= 0 or pb >= 0:\n",
    "        if pa<0:\n",
    "            a[p]=b[pb]\n",
    "            pb-=1\n",
    "        elif pb<0:\n",
    "            #no need to copy \n",
    "            break\n",
    "        elif a[pa] > b[pb]:\n",
    "            a[p]=a[pa]\n",
    "            pa-=1\n",
    "        else:\n",
    "            a[p]=b[pb]\n",
    "            pb-=1\n",
    "        p-=1\n",
    "\n",
    "a=[1,3,5,0,0,0]\n",
    "b=[2,4,6]\n",
    "merge(a,2,b,2)\n",
    "print a"
   ]
  },
  {
   "cell_type": "code",
   "execution_count": 16,
   "metadata": {
    "collapsed": false
   },
   "outputs": [
    {
     "name": "stdout",
     "output_type": "stream",
     "text": [
      "['takeshi', 'abc', 'cba', 'takashi']\n"
     ]
    }
   ],
   "source": [
    "#11.2\n",
    "\n",
    "#use join() to concatinate string list\n",
    "\n",
    "def anagram_sort(str_list):\n",
    "    hash_lists={}\n",
    "    for string in str_list:\n",
    "        hashed_string=\"\".join(sorted(string))\n",
    "        if hashed_string not in hash_lists.keys():\n",
    "            hash_lists[hashed_string]=[]\n",
    "        hash_lists[hashed_string].append(string)\n",
    "    retval=[]\n",
    "    for anagrams in hash_lists.values():\n",
    "        for anagram in anagrams:\n",
    "            retval.append(anagram)\n",
    "    return retval\n",
    "\n",
    "str_list=[\"abc\",\"takashi\",\"takeshi\",\"cba\"]\n",
    "print anagram_sort(str_list)"
   ]
  },
  {
   "cell_type": "code",
   "execution_count": 38,
   "metadata": {
    "collapsed": false
   },
   "outputs": [
    {
     "name": "stdout",
     "output_type": "stream",
     "text": [
      "-1\n"
     ]
    }
   ],
   "source": [
    "#11.3\n",
    "def findx_in_rotated_list(x,array,start,end):\n",
    "    if array[start]==x:\n",
    "        return start\n",
    "    if array[end]==x:\n",
    "        return end\n",
    "    \n",
    "    if start==end:\n",
    "        return -1 #error\n",
    "    \n",
    "    is_rotated=array[start]<array[start]\n",
    "    mid=(start+end)/2\n",
    "    \n",
    "    if array[mid]==x:\n",
    "        return mid\n",
    "    \n",
    "    if array[start]==array[end]:\n",
    "        if array[mid]<array[start]:\n",
    "            return findx_in_rotated_list(x,array,mid,end)\n",
    "        else:\n",
    "            return findx_in_rotated_list(x,array,start,mid)\n",
    "            \n",
    "    elif (array[mid]>x and array[start]<x) or (array[mid]<x and array[end]<x): \n",
    "        return findx_in_rotated_list(x,array,start,mid)\n",
    "    else:\n",
    "        return findx_in_rotated_list(x,array,mid,end)\n",
    "\n",
    "array=[2,2,2,2,3,4,2,2]\n",
    "print findx_in_rotated_list(4,array,0,len(array)-1)\n",
    "    "
   ]
  },
  {
   "cell_type": "code",
   "execution_count": 14,
   "metadata": {
    "collapsed": false
   },
   "outputs": [
    {
     "name": "stdout",
     "output_type": "stream",
     "text": [
      "takashi\n"
     ]
    }
   ],
   "source": [
    "str1=\"takashi\"\n",
    "str2=\"\"\n",
    "str2=[char1 for char1 in str1]\n",
    "print \"\".join(str2)"
   ]
  },
  {
   "cell_type": "code",
   "execution_count": null,
   "metadata": {
    "collapsed": true
   },
   "outputs": [],
   "source": [
    "#11.6\n",
    "\n",
    "#this method wouldn't work\n",
    "def find_2d_array(x,array,start,end):\n",
    "    mid=[(start[0]+end[0])/2,(start[1]+end[1])/2]\n",
    "    if array[mid[0]][mid[1]]==x:\n",
    "        return mid\n",
    "    if start==end:\n",
    "        return [-1,-1]\n",
    "    \n",
    "    if array[mid[0]][mid[1]]>x:\n",
    "        return find_2d_array(x,array,mid,end)\n",
    "    else:\n",
    "        return find_2d_array(x,array,start,end)"
   ]
  },
  {
   "cell_type": "code",
   "execution_count": 68,
   "metadata": {
    "collapsed": false
   },
   "outputs": [
    {
     "name": "stdout",
     "output_type": "stream",
     "text": [
      "[2, 2]\n"
     ]
    }
   ],
   "source": [
    "#11.6　ソートされた二次元配列の探索\n",
    "#正解の一個目\n",
    "def find_2d_array(x,array):\n",
    "    row=0\n",
    "    col=len(array[0])-1\n",
    "    while row<len(array) and col>0:\n",
    "        elem=array[row][col]\n",
    "        if elem==x:\n",
    "            return [row,col]\n",
    "        elif elem>x:\n",
    "            col-=1\n",
    "        else:\n",
    "            row+=1\n",
    "    return [-1,-1]\n",
    "array=[[1,2,3],[4,5,6],[7,8,9],[10,11,12]]\n",
    "print find_2d_array(9,array)"
   ]
  },
  {
   "cell_type": "code",
   "execution_count": 69,
   "metadata": {
    "collapsed": false
   },
   "outputs": [
    {
     "name": "stdout",
     "output_type": "stream",
     "text": [
      "[2, 1]\n"
     ]
    }
   ],
   "source": [
    "#11.6\n",
    "#正解の二個目　二分探索\n",
    "\n",
    "#終了条件が難しい\n",
    "#簡単な例で図に書いてシミュレーションすべし\n",
    "\n",
    "def find_2d_array(x,array,start,end):\n",
    "    if start[0]>=end[0] and start[1]>=end[1]:\n",
    "        return [-1,-1]\n",
    "    start_val=array[start[0]][start[1]]\n",
    "    end_val=array[end[0]][end[1]]\n",
    "    mid=[(start[0]+end[0])/2,(start[1]+end[1])/2]\n",
    "    mid_val=array[mid[0]][mid[1]]\n",
    "    \n",
    "    if start_val==x:\n",
    "        return start\n",
    "    if end_val==x:\n",
    "        return end\n",
    "    if start_val>x or end_val<x:\n",
    "        return [-1,-1]\n",
    "    \n",
    "    if mid_val==x:\n",
    "        return mid\n",
    "    elif mid_val>x:\n",
    "        result=find_2d_array(x,array,start,[mid[0],mid[1]])\n",
    "    else:\n",
    "        result=find_2d_array(x,array,[mid[0]+1,mid[1]+1],end)\n",
    "    \n",
    "    if result==[-1,-1]:\n",
    "        result=find_2d_array(x,array,[start[0],mid[1]-1],[mid[0],end[1]])\n",
    "    if result==[-1,-1]:\n",
    "        result=find_2d_array(x,array,[mid[0]+1,start[1]],[end[0],mid[1]])\n",
    "    return result\n",
    "print find_2d_array(8,array,[0,0],[len(array)-1,len(array[0])-1])  "
   ]
  },
  {
   "cell_type": "code",
   "execution_count": 102,
   "metadata": {
    "collapsed": false
   },
   "outputs": [
    {
     "name": "stdout",
     "output_type": "stream",
     "text": [
      "[[4, 150], [3, 130], [3, 130], [1, 100]]\n"
     ]
    }
   ],
   "source": [
    "#11.7\n",
    "def make_tower(poeple):\n",
    "    weights=sorted(people,key=lambda x:x[0])\n",
    "    heights=sorted(people,key=lambda x:x[1])\n",
    "    return build_tower(weights,heights,0,0,0)\n",
    "    \n",
    "def build_tower(weights,heights,wp,hp,max_num):\n",
    "    if wp==len(weights)-1:\n",
    "        return [weights[wp]]\n",
    "    if hp==len(heights)-1:\n",
    "        return [heights[wp]]\n",
    "       \n",
    "    \n",
    "    #can't be max\n",
    "    if min(len(weights)-wp,len(heights)-hp)<max_num:\n",
    "        return []\n",
    "    \n",
    "    new_wp=wp\n",
    "    new_hp=hp\n",
    "    while weights[new_wp][0]!=heights[new_hp][0] or weights[new_wp][1]!=heights[new_hp][1]:\n",
    "        new_hp+=1\n",
    "    result_wp=build_tower(weights,heights,new_wp+1,new_hp+1,max_num)\n",
    "    result_wp.append(weights[new_wp])\n",
    "    \n",
    "    new_hp=hp\n",
    "    new_wp=wp\n",
    "    while heights[new_hp][0]!=weights[new_wp][0] or heights[new_hp][1]!=weights[new_wp][1]:\n",
    "        new_wp+=1\n",
    "    max_num=max(max_num,len(result_wp))\n",
    "    result_hp=build_tower(weights,heights,new_wp+1,new_hp+1,max_num)\n",
    "    result_hp.append(heights[new_hp])\n",
    "    \n",
    "    if len(result_wp)>len(result_hp):\n",
    "        return result_wp\n",
    "    else:\n",
    "        return result_hp\n",
    "\n",
    "people=[[4,150],[3,130],[3,130],[2,140],[1,100]]\n",
    "print make_tower(people)\n"
   ]
  },
  {
   "cell_type": "code",
   "execution_count": 89,
   "metadata": {
    "collapsed": false
   },
   "outputs": [
    {
     "name": "stdout",
     "output_type": "stream",
     "text": [
      "150\n"
     ]
    }
   ],
   "source": [
    "weights=sorted(people,key=lambda x:x[0])\n",
    "print weights[3][1]"
   ]
  },
  {
   "cell_type": "code",
   "execution_count": null,
   "metadata": {
    "collapsed": true
   },
   "outputs": [],
   "source": [
    "#11.1\n",
    "class RankTracker:\n",
    "    def __init__(self,value):\n",
    "        self.value=value\n",
    "        self.small=None\n",
    "        self.large=None\n",
    "        \n",
    "    def track(x):\n",
    "        if self.small not is None:\n",
    "            if x < self.small.value:\n",
    "                self.small.track(x)\n",
    "            elif x <self.value:\n",
    "                \n",
    "            \n",
    "        if self.large not is None:\n",
    "            if x > self.large.value:\n",
    "                self.large.track(x)\n",
    "        "
   ]
  },
  {
   "cell_type": "code",
   "execution_count": null,
   "metadata": {
    "collapsed": true
   },
   "outputs": [],
   "source": [
    "#heap sort\n",
    "def heap_sort(array):\n",
    "    for i in xrange(len(array)/2-1,-1,-1):\n",
    "        parent=i\n",
    "        while True:\n",
    "            child=parent*2+1\n",
    "            if left_child>=len(array):\n",
    "                break\n",
    "            if child+1>=len(array) and array[child+1]>array[child]:\n",
    "                child=child+1\n",
    "            if array[child]=<array[parent]:\n",
    "                break\n",
    "            exchange(child,parent)\n",
    "            parent=child\n",
    "    \n",
    "        \n",
    "        \n",
    "\n",
    "def exchange(a,b,array):\n",
    "    tmp=array[a]\n",
    "    array[a]=array[b]\n",
    "    array[b]=tmp\n",
    "    \n",
    "    "
   ]
  },
  {
   "cell_type": "code",
   "execution_count": 103,
   "metadata": {
    "collapsed": false
   },
   "outputs": [
    {
     "name": "stdout",
     "output_type": "stream",
     "text": [
      "[1, 1, 1, 1, 1, 2, 2, 2, 2, 2, 3, 4, 5, 5, 5, 5, 5]\n"
     ]
    }
   ],
   "source": [
    "def heap_sort(buff):\n",
    "    # ヒープの構成\n",
    "    size = len(buff)\n",
    "    for i in xrange(size / 2 - 1, -1, -1):\n",
    "        n = i\n",
    "        x = buff[n]\n",
    "        while True:\n",
    "            c = 2 * n + 1\n",
    "            if c >= size: break\n",
    "            if c + 1 < size and buff[c] < buff[c + 1]: c += 1\n",
    "            if x >= buff[c]: break\n",
    "            buff[n] = buff[c]\n",
    "            n = c\n",
    "        buff[n] = x\n",
    "    # 最大値を取り出す\n",
    "    for i in xrange(size - 1, -1, -1):\n",
    "        x = buff[i]\n",
    "        buff[i] = buff[0]\n",
    "        n = 0\n",
    "        while True:\n",
    "            c = 2 * n + 1\n",
    "            if c >= i: break\n",
    "            if c + 1 < i and buff[c] < buff[c + 1]: c += 1\n",
    "            if x >= buff[c]: break\n",
    "            buff[n] = buff[c]\n",
    "            n = c\n",
    "        buff[n] = x\n",
    "buff=[1,1,1,1,1,3,4,5,5,5,5,5,2,2,2,2,2]\n",
    "heap_sort(buff)\n",
    "print buff"
   ]
  },
  {
   "cell_type": "code",
   "execution_count": null,
   "metadata": {
    "collapsed": true
   },
   "outputs": [],
   "source": []
  }
 ],
 "metadata": {
  "kernelspec": {
   "display_name": "Python 2",
   "language": "python",
   "name": "python2"
  },
  "language_info": {
   "codemirror_mode": {
    "name": "ipython",
    "version": 2
   },
   "file_extension": ".py",
   "mimetype": "text/x-python",
   "name": "python",
   "nbconvert_exporter": "python",
   "pygments_lexer": "ipython2",
   "version": "2.7.12"
  }
 },
 "nbformat": 4,
 "nbformat_minor": 0
}
