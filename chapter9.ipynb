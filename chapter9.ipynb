{
 "cells": [
  {
   "cell_type": "code",
   "execution_count": null,
   "metadata": {
    "collapsed": true
   },
   "outputs": [],
   "source": [
    "#9.1\n",
    "def stairs(n,cache):\n",
    "    if n<0:\n",
    "        return 0\n",
    "    \n",
    "    if n==0:\n",
    "        return 1\n",
    "    elif n in cache:\n",
    "        return cache[n]\n",
    "    else:\n",
    "        result=stairs(n-1,cache)+stairs(n-2,cache)+stairs(n-3,cache)\n",
    "        cache[n]=result\n",
    "        return result\n"
   ]
  },
  {
   "cell_type": "code",
   "execution_count": null,
   "metadata": {
    "collapsed": false
   },
   "outputs": [],
   "source": [
    "print stairs(100,{})"
   ]
  },
  {
   "cell_type": "code",
   "execution_count": null,
   "metadata": {
    "collapsed": true
   },
   "outputs": [],
   "source": [
    "#9.2\n",
    "\n",
    "def robot(x,y):\n",
    "    if x<0 or y>0:\n",
    "        return 0\n",
    "    elif x==0 and y==0:\n",
    "        return 1\n",
    "    else:\n",
    "        return robot(x-1,y)+robot(x,y+1)\n"
   ]
  },
  {
   "cell_type": "code",
   "execution_count": null,
   "metadata": {
    "collapsed": false
   },
   "outputs": [],
   "source": [
    "print robot(1,-1)"
   ]
  },
  {
   "cell_type": "code",
   "execution_count": null,
   "metadata": {
    "collapsed": true
   },
   "outputs": [],
   "source": [
    "#9.2の発展問題\n",
    "\n",
    "def robot(x,y,ban,path):\n",
    "    if x<0 or y>0:\n",
    "        return False\n",
    "    elif x==0 and y==0:\n",
    "        path.append([0,0])\n",
    "        return True\n",
    "    elif [x,y] in ban:\n",
    "        return False\n",
    "    else:\n",
    "        if robot(x-1,y,ban,path) or robot(x,y+1,ban,path):\n",
    "            path.append([x,y])\n",
    "            return True\n",
    "        else:\n",
    "            return False\n",
    "           "
   ]
  },
  {
   "cell_type": "code",
   "execution_count": null,
   "metadata": {
    "collapsed": false
   },
   "outputs": [],
   "source": [
    "path=[]\n",
    "print robot(2,-2,[[1,-1],[0,-1]],path)\n",
    "print path"
   ]
  },
  {
   "cell_type": "code",
   "execution_count": null,
   "metadata": {
    "collapsed": false
   },
   "outputs": [],
   "source": [
    "#9.3\n",
    "def find(arr,start,end):\n",
    "    print(start,end)\n",
    "    if start>end:\n",
    "        return -1\n",
    "    half=(start+end)/2\n",
    "    if arr[half]==half:\n",
    "        return half\n",
    "    \n",
    "    right_result=find(arr,half+1,min(end,arr[end]))\n",
    "    if right_result == -1:\n",
    "        return find(arr,max(start,arr[start]),half-1)\n",
    "    else:\n",
    "        return right_result"
   ]
  },
  {
   "cell_type": "code",
   "execution_count": null,
   "metadata": {
    "collapsed": false
   },
   "outputs": [],
   "source": [
    "arr=[-1,0,1,2,3,4,6,6]\n",
    "print find(arr,0,7)"
   ]
  },
  {
   "cell_type": "code",
   "execution_count": null,
   "metadata": {
    "collapsed": false
   },
   "outputs": [],
   "source": [
    "#9.4\n",
    "def group(arr):\n",
    "    if len(arr)<=1:\n",
    "        return arr\n",
    "    else:\n",
    "        result=group(arr[:-1])\n",
    "        result.append(arr)\n",
    "        result.append(arr[-1:])\n",
    "        return result\n",
    "\n",
    "testcase=[1,2,3,4,]\n",
    "print(group(testcase))\n",
    "    "
   ]
  },
  {
   "cell_type": "code",
   "execution_count": null,
   "metadata": {
    "collapsed": false
   },
   "outputs": [],
   "source": [
    "print [1,2,3][-1:]"
   ]
  },
  {
   "cell_type": "code",
   "execution_count": null,
   "metadata": {
    "collapsed": false
   },
   "outputs": [],
   "source": [
    "#9.5\n",
    "\n",
    "def insert(arr,i,x):\n",
    "    newarr=arr[:i]\n",
    "    newarr.append(x)\n",
    "    newarr.extend(arr[i:])\n",
    "    return newarr\n",
    "\n",
    "def permitation(arr):\n",
    "    if len(arr)<=1:\n",
    "        return [arr]\n",
    "    results=[]\n",
    "    for results_1 in permitation(arr[:-1]):\n",
    "        for position in range(0,len(results_1)+1):\n",
    "            results.append(insert(results_1,position,arr[-1]))\n",
    "    return results\n",
    "\n",
    "print permitation([1])\n",
    "print permitation([1,2])\n",
    "print permitation([1,2,3])"
   ]
  },
  {
   "cell_type": "code",
   "execution_count": null,
   "metadata": {
    "collapsed": false
   },
   "outputs": [],
   "source": [
    "print insert([1],0,2)"
   ]
  },
  {
   "cell_type": "code",
   "execution_count": null,
   "metadata": {
    "collapsed": false
   },
   "outputs": [],
   "source": [
    "#9.6\n",
    "\n",
    "def addPrt(resultlist,leftNum,rightNum,result,num):\n",
    "    if rightNum<0 or leftNum<0 or rightNum+leftNum>num*2:\n",
    "        return\n",
    "    if leftNum+rightNum==num*2:\n",
    "        resultlist.append(result)\n",
    "        return\n",
    "    if leftNum<num:\n",
    "        copy=result+\"(\"\n",
    "        addPrt(resultlist,leftNum+1,rightNum,copy,num)\n",
    "    if rightNum<leftNum:\n",
    "        copy=result+\")\"\n",
    "        addPrt(resultlist,leftNum,rightNum+1,copy,num)\n",
    "    return\n",
    "\n",
    "resultlist=[]\n",
    "addPrt(resultlist,0,0,\"\",6)\n",
    "print resultlist"
   ]
  },
  {
   "cell_type": "code",
   "execution_count": null,
   "metadata": {
    "collapsed": false
   },
   "outputs": [],
   "source": [
    "print 1==1 and (1==2 or 2==3 )"
   ]
  },
  {
   "cell_type": "code",
   "execution_count": null,
   "metadata": {
    "collapsed": false
   },
   "outputs": [],
   "source": [
    "#9.7\n",
    "#this program might calculate same pixcel twice\n",
    "def paint(arr,v,h,fromv,fromh,value):\n",
    "    if  v<0 or h<0 or v>=len(arr) or h>=len(arr[0]):\n",
    "        return\n",
    "    \n",
    "    original=arr[v][h]\n",
    "    arr[v][h]=value\n",
    "    \n",
    "    if v>1 and (v-1!=fromv or h!=fromh):\n",
    "        if arr[v-1][h]==original:\n",
    "            paint(arr,v-1,h,v,h,value)\n",
    "    if h>1 and (h-1!=fromh or v!=fromv):\n",
    "        if arr[v][h-1]==original:\n",
    "            paint(arr,v,h-1,v,h,value)\n",
    "    if v+1<len(arr) and (v+1!=fromv or h!=fromh):\n",
    "        if arr[v+1][h]==original:\n",
    "            paint(arr,v+1,h,v,h,value)\n",
    "    if h+1<len(arr[0]) and (h+1!=fromh and v!=fromv):\n",
    "        if arr[v][h+1]==original:\n",
    "            paint(arr,v,h+1,h,v,value)\n",
    "            \n",
    "arr=[[0,0,0,0,0],\n",
    "     [0,1,1,0,0],\n",
    "     [0,1,0,1,0],\n",
    "     [0,1,0,1,0]]\n",
    "paint(arr,2,1,-1,-1,8)\n",
    "print(arr)\n",
    "\n"
   ]
  },
  {
   "cell_type": "code",
   "execution_count": null,
   "metadata": {
    "collapsed": false
   },
   "outputs": [],
   "source": [
    "def paint2(pixcels,v,h,ncolor,ocolor):\n",
    "    if v<0 or h<0 or v>=len(arr) or h>=len(arr):\n",
    "        return\n",
    "    if pixcels[h][v]==ocolor:\n",
    "        pixcels[h][v]=ncolor\n",
    "        paint2(pixcels,v+1,h,ncolor,ocolor)\n",
    "        paint2(pixcels,v,h+1,ncolor,ocolor)\n",
    "        paint2(pixcels,v-1,h,ncolor,ocolor)\n",
    "        paint2(pixcels,v,h-1,ncolor,ocolor)\n",
    "\n",
    "def paint_entry(pixcels,v,h,color):\n",
    "    if pixcels[v][h]==color:\n",
    "        return\n",
    "    paint2(pixcels,v,h,color,pixcels[v][h])\n",
    "\n",
    "paint_entry(arr,2,1,8)\n",
    "print(arr)"
   ]
  },
  {
   "cell_type": "code",
   "execution_count": null,
   "metadata": {
    "collapsed": false
   },
   "outputs": [],
   "source": [
    "#9.9\n",
    "import copy\n",
    "\n",
    "def put_queen(puttable,pos):\n",
    "    size=len(puttable)\n",
    "    \n",
    "    #row\n",
    "    for i in range(0,size):\n",
    "        puttable[pos[0]][i]=False\n",
    "    \n",
    "    #colum\n",
    "    for i in range(0,size):\n",
    "        puttable[i][pos[1]]=False\n",
    "    \n",
    "    #tilt\n",
    "    i,j=0,0\n",
    "    #upper left\n",
    "    i,j=pos[0],pos[1]\n",
    "    while i>0 and j>0:\n",
    "        puttable[i][j]=False\n",
    "        i,j=i-1,j-1\n",
    "    \n",
    "    #upper right\n",
    "    i,j=pos[0],pos[1]\n",
    "    while i>0 and j<size:\n",
    "        puttable[i][j]=False\n",
    "        i,j=i-1,j+1\n",
    "        \n",
    "    #lower right\n",
    "    i,j=pos[0],pos[1]\n",
    "    while i<size and j<size:\n",
    "        puttable[i][j]=False\n",
    "        i,j=i+1,j+1\n",
    "        \n",
    "    #upper right\n",
    "    i,j=pos[0],pos[1]\n",
    "    while i<size and j>0:\n",
    "        puttable[i][j]=False\n",
    "        i,j=i+1,j-1\n",
    "\n",
    "def queen8(puttable,positions,results):\n",
    "    if len(puttable)==len(positions):\n",
    "        results.append(positions)\n",
    "        return\n",
    "    \n",
    "    next_row=len(positions)\n",
    "    for i,cell in enumerate(puttable[next_row]):\n",
    "        if cell:\n",
    "            position_copy=copy.deepcopy(positions)\n",
    "            position_copy.append([next_row,i])\n",
    "            puttable_copy=copy.deepcopy(puttable)\n",
    "            put_queen(puttable_copy,[next_row,i])\n",
    "            queen8(puttable_copy,position_copy,results)\n",
    "size=8\n",
    "puttable=[]\n",
    "for i in range(0,size):\n",
    "    row=[]\n",
    "    for j in range(0,size):\n",
    "        row.append(True)\n",
    "    puttable.append(row)\n",
    "\n",
    "# put_queen(puttable,[0,0])\n",
    "# print puttable\n",
    "\n",
    "results=[]\n",
    "queen8(puttable,[],results)\n",
    "print(results)"
   ]
  },
  {
   "cell_type": "code",
   "execution_count": null,
   "metadata": {
    "collapsed": false
   },
   "outputs": [],
   "source": [
    "import copy\n",
    "\n",
    "#9.10\n",
    "def pileup(top,remains,sum,cache):\n",
    "    if len(remains)==0:\n",
    "        return sum\n",
    "    max_hight=0\n",
    "    \n",
    "    #check cache first\n",
    "    if remains in cache.keys():\n",
    "        return cache[remains]\n",
    "    \n",
    "    for box in remains:\n",
    "        \n",
    "        #check you can pile this box\n",
    "        pilable=True\n",
    "        for top_size,box_size in zip(top,box):\n",
    "            if top_size<box_size:\n",
    "                pilable=False\n",
    "\n",
    "        if pilable:\n",
    "            remains_copy=copy.deepcopy(remains)\n",
    "            remains_copy.remove(box)\n",
    "            hight=pileup(box,remains_copy,sum+box[2],cache)\n",
    "            if hight>max_hight:\n",
    "                max_hight=hight\n",
    "    \n",
    "    cache[remains]=max_hight\n",
    "    return max_hight\n",
    "\n",
    "print pileup([1000,1000,1000],[[1,1,1],[1,2,3]],0,{})\n",
    "        "
   ]
  },
  {
   "cell_type": "code",
   "execution_count": null,
   "metadata": {
    "collapsed": false
   },
   "outputs": [],
   "source": [
    "import random\n",
    "\n",
    "boxes=[]\n",
    "for i in range(0,10):\n",
    "    box=[]\n",
    "    for j in range(0,3):\n",
    "        box.append(random.random())\n",
    "    boxes.append(box)\n",
    "\n",
    "print pileup([1000,1000,1000],boxes,0,{})"
   ]
  },
  {
   "cell_type": "code",
   "execution_count": null,
   "metadata": {
    "collapsed": false
   },
   "outputs": [],
   "source": [
    "import time\n",
    "#9.11\n",
    "def fpattern(formula,result):\n",
    "    if len(formula)==1:\n",
    "        if int(formula)==result:\n",
    "            return 1\n",
    "        else:\n",
    "            return 0\n",
    "    \n",
    "    pattern=0\n",
    "    for pivot in range(0,len(formula)/2):\n",
    "        i=pivot*2+1\n",
    "        if formula[i]==\"^\":\n",
    "            if result==0:\n",
    "                pattern+=fpattern(formula[:i],0)*fpattern(formula[i+1:],0)\n",
    "                pattern+=fpattern(formula[:i],1)*fpattern(formula[i+1:],1)\n",
    "            else:\n",
    "                pattern+=fpattern(formula[:i],0)*fpattern(formula[i+1:],1)\n",
    "                pattern+=fpattern(formula[:i],1)*fpattern(formula[i+1:],0)\n",
    "        \n",
    "        elif formula[i]==\"&\":\n",
    "            if result==1:\n",
    "                pattern+=fpattern(formula[:i],1)*fpattern(formula[i+1:],1)\n",
    "            else:\n",
    "                pattern+=fpattern(formula[:i],0)*fpattern(formula[i+1:],0)\n",
    "                pattern+=fpattern(formula[:i],0)*fpattern(formula[i+1:],1)\n",
    "                pattern+=fpattern(formula[:i],1)*fpattern(formula[i+1:],0)\n",
    "                \n",
    "        elif formula[i]==\"|\":\n",
    "            if result==0:\n",
    "                pattern+=fpattern(formula[:i],0)*fpattern(formula[i+1:],0)\n",
    "            else:\n",
    "                pattern+=fpattern(formula[:i],1)*fpattern(formula[i+1:],1)\n",
    "                pattern+=fpattern(formula[:i],0)*fpattern(formula[i+1:],1)\n",
    "                pattern+=fpattern(formula[:i],1)*fpattern(formula[i+1:],0)\n",
    "    return pattern\n",
    "start=time.time()\n",
    "print fpattern(\"0|1^0&0|1|1&0^0^1|1&0&0|1\",0)\n",
    "print time.time()-start"
   ]
  },
  {
   "cell_type": "code",
   "execution_count": null,
   "metadata": {
    "collapsed": false
   },
   "outputs": [],
   "source": [
    "def fpattern(formula,result,cache):\n",
    "    if len(formula)==1:\n",
    "        if int(formula)==result:\n",
    "            return 1\n",
    "        else:\n",
    "            return 0\n",
    "    #check cacche first\n",
    "    if formula+str(result) in cache.keys():\n",
    "        return cache[formula+str(result)]\n",
    "\n",
    "    pattern=0\n",
    "    for pivot in range(0,len(formula)/2):\n",
    "        i=pivot*2+1\n",
    "        if formula[i]==\"^\":\n",
    "            if result==0:\n",
    "                pattern+=fpattern(formula[:i],0,cache)*fpattern(formula[i+1:],0,cache)\n",
    "                pattern+=fpattern(formula[:i],1,cache)*fpattern(formula[i+1:],1,cache)\n",
    "            else:\n",
    "                pattern+=fpattern(formula[:i],0,cache)*fpattern(formula[i+1:],1,cache)\n",
    "                pattern+=fpattern(formula[:i],1,cache)*fpattern(formula[i+1:],0,cache)\n",
    "\n",
    "        elif formula[i]==\"&\":\n",
    "            if result==1:\n",
    "                pattern+=fpattern(formula[:i],1,cache)*fpattern(formula[i+1:],1,cache)\n",
    "            else:\n",
    "                pattern+=fpattern(formula[:i],0,cache)*fpattern(formula[i+1:],0,cache)\n",
    "                pattern+=fpattern(formula[:i],0,cache)*fpattern(formula[i+1:],1,cache)\n",
    "                pattern+=fpattern(formula[:i],1,cache)*fpattern(formula[i+1:],0,cache)\n",
    "\n",
    "        elif formula[i]==\"|\":\n",
    "            if result==0:\n",
    "                pattern+=fpattern(formula[:i],0,cache)*fpattern(formula[i+1:],0,cache)\n",
    "            else:\n",
    "                pattern+=fpattern(formula[:i],1,cache)*fpattern(formula[i+1:],1,cache)\n",
    "                pattern+=fpattern(formula[:i],0,cache)*fpattern(formula[i+1:],1,cache)\n",
    "                pattern+=fpattern(formula[:i],1,cache)*fpattern(formula[i+1:],0,cache)\n",
    "    cache[formula+str(result)]=pattern\n",
    "    return pattern\n",
    "\n",
    "start=time.time()\n",
    "print fpattern(\"0|1^0&0|1|1&0^0^1|1&0&0|1\",0,{})\n",
    "print time.time()-start"
   ]
  },
  {
   "cell_type": "code",
   "execution_count": null,
   "metadata": {
    "collapsed": true
   },
   "outputs": [],
   "source": [
    "#10.3\n",
    "import sys\n",
    "\n",
    "size=500\n",
    "counter=[0]*size\n",
    "with open(\"data\",\"r\") with f:\n",
    "    for line in f.readlines():\n",
    "        num=int(line.rstrip())\n",
    "        counter[num/500]+=1\n",
    "\n"
   ]
  }
 ],
 "metadata": {
  "kernelspec": {
   "display_name": "Python 2",
   "language": "python",
   "name": "python2"
  },
  "language_info": {
   "codemirror_mode": {
    "name": "ipython",
    "version": 2
   },
   "file_extension": ".py",
   "mimetype": "text/x-python",
   "name": "python",
   "nbconvert_exporter": "python",
   "pygments_lexer": "ipython2",
   "version": "2.7.11"
  }
 },
 "nbformat": 4,
 "nbformat_minor": 0
}
