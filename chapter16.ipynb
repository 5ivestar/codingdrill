{
 "cells": [
  {
   "cell_type": "code",
   "execution_count": null,
   "metadata": {
    "collapsed": true
   },
   "outputs": [],
   "source": [
    "#pythonのスレッドのサンプルプログラム１\n",
    "import threading\n",
    "import time\n",
    "import datetime\n",
    "\n",
    "\n",
    "class TestThread(threading.Thread):\n",
    "\n",
    "    \"\"\"docstring for TestThread\"\"\"\n",
    "\n",
    "    def __init__(self, n, t):\n",
    "        super(TestThread, self).__init__()\n",
    "        self.n = n\n",
    "        self.t = t\n",
    "\n",
    "    def run(self):\n",
    "        print \" === start sub thread (sub class) === \"\n",
    "        for i in range(self.n):\n",
    "            time.sleep(self.t)\n",
    "            print \"sub thread (sub class) : \" + str(datetime.datetime.today())\n",
    "        print \" === end sub thread (sub class) === \"\n"
   ]
  },
  {
   "cell_type": "code",
   "execution_count": null,
   "metadata": {
    "collapsed": false
   },
   "outputs": [],
   "source": [
    "\n",
    "#pythonのスレッドのサンプルプログラム２\n",
    "def hoge(n, t):\n",
    "    print \" === start sub thread (method) === \"\n",
    "    for i in range(n):\n",
    "        time.sleep(t)\n",
    "        print \"[%s] sub thread (method) : \" % threading.currentThread().getName() + str(datetime.datetime.today())\n",
    "    print \" === end sub thread (method) === \"\n",
    "\n",
    "if __name__ == '__main__':\n",
    "    th_cl = TestThread(5, 5)\n",
    "    th_cl.start()\n",
    "\n",
    "    time.sleep(1)\n",
    "\n",
    "    print \" === start main thread (main) === \"\n",
    "    for i in range(5):\n",
    "        time.sleep(10)\n",
    "        print \"main thread : \" + str(datetime.datetime.today())\n",
    "    print \" == end main thread === \""
   ]
  },
  {
   "cell_type": "code",
   "execution_count": null,
   "metadata": {
    "collapsed": false
   },
   "outputs": [],
   "source": [
    "#16.3\n",
    "#哲学者の食事問題\n",
    "class Philosophy(threading.Thread):\n",
    "    def __init__(self,left_stick,right_stick,name):\n",
    "        super(Philosophy,self).__init__()\n",
    "        self.left_stick=left_stick\n",
    "        self.right_stick=right_stick\n",
    "        self.name=name\n",
    "        \n",
    "    def run(self):\n",
    "        for i in range(10):\n",
    "            self.eat(i)\n",
    "    \n",
    "    def eat(self,i):\n",
    "        start=time.time()\n",
    "        self.get_sticks()\n",
    "        time.sleep(1)\n",
    "        self.off_sticks()\n",
    "        print self.name,str(i)+\"times\",time.time()-start\n",
    "        \n",
    "    #produce dead lock to uncomment sleep\n",
    "    def get_sticks(self):\n",
    "        self.left_stick.acquire()\n",
    "        #time.sleep(2)\n",
    "        self.right_stick.acquire()\n",
    "    \n",
    "    def off_sticks(self):\n",
    "        self.left_stick.release()\n",
    "        self.right_stick.release()\n",
    "\n",
    "phil_num=5\n",
    "sticks=[threading.Lock() for i in range(phil_num)]\n",
    "phils=[]\n",
    "for i in range(phil_num):\n",
    "    phils.append(Philosophy(sticks[i],sticks[(i+1)%phil_num],\"phil\"+str(i)))\n",
    "\n",
    "for phil in phils:\n",
    "    phil.start()\n",
    "        "
   ]
  },
  {
   "cell_type": "code",
   "execution_count": null,
   "metadata": {
    "collapsed": true
   },
   "outputs": [],
   "source": [
    "\n",
    "\n",
    "class Foo:\n",
    "    def __init__(self):\n",
    "        self.called1=False\n",
    "        self.called2=False\n",
    "        \n",
    "        self.lock1=threading.Lock()\n",
    "        self.lock2=threading.Lock()\n",
    "        \n",
    "    def first():\n",
    "        lock1.acquire()\n",
    "        called1=True\n",
    "        lock1.release()\n",
    "        \n",
    "        \n",
    "    def second():\n",
    "        self.lock1.acquire()\n",
    "        \n",
    "        self.lock2.acquire()\n",
    "        \n",
    "        self.lock1.release()\n",
    "        self.lock2.release()\n",
    "        \n",
    "        \n",
    "        \n",
    "    def third():\n",
    "        "
   ]
  },
  {
   "cell_type": "code",
   "execution_count": null,
   "metadata": {
    "collapsed": false
   },
   "outputs": [],
   "source": [
    "#testing Lock\n",
    "class aThread(threading.Thread):\n",
    "    \n",
    "    def __init__(self,lock):\n",
    "        super(aThread,self).__init__()\n",
    "        self.lock=lock\n",
    "   \n",
    "    def run(self):\n",
    "        if self.lock.locked:\n",
    "            print \"locked\"\n",
    "        with self.lock:\n",
    "            if self.lock.locked:\n",
    "                print \"locked\"\n",
    "            print self.lock.locked\n",
    "        print self.lock.locked\n",
    "        \n",
    "alock=threading.Lock()\n",
    "th=aThread(alock)\n",
    "th.run()\n",
    "\n"
   ]
  }
 ],
 "metadata": {
  "kernelspec": {
   "display_name": "Python 2",
   "language": "python",
   "name": "python2"
  },
  "language_info": {
   "codemirror_mode": {
    "name": "ipython",
    "version": 2
   },
   "file_extension": ".py",
   "mimetype": "text/x-python",
   "name": "python",
   "nbconvert_exporter": "python",
   "pygments_lexer": "ipython2",
   "version": "2.7.10"
  }
 },
 "nbformat": 4,
 "nbformat_minor": 1
}
